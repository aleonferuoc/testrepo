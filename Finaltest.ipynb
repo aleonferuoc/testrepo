{
 "cells": [
  {
   "cell_type": "markdown",
   "id": "58b2422f-2ef7-468a-b367-cd92de8366d5",
   "metadata": {},
   "source": [
    "# Final test"
   ]
  },
  {
   "cell_type": "markdown",
   "id": "bd0307e5-fa1c-4b97-b13b-1fdf73205e71",
   "metadata": {},
   "source": [
    "<b> In this notebook Data Science Tools are sumarized</b>"
   ]
  },
  {
   "cell_type": "markdown",
   "id": "c91d3484-8953-4311-accb-801d93ec4f6a",
   "metadata": {},
   "source": [
    "1. Python\n",
    "2. R\n",
    "3. Scala"
   ]
  },
  {
   "cell_type": "markdown",
   "id": "d490ce1b-79b9-4e06-8d8f-1881567bd059",
   "metadata": {},
   "source": [
    "1. pandas\n",
    "2. numpy\n",
    "3. matplotlib"
   ]
  },
  {
   "cell_type": "markdown",
   "id": "22b83077-553d-4350-b564-1a6928b17949",
   "metadata": {},
   "source": [
    "|Data Science tools|\n",
    "|------------------|\n",
    "|Mongo DB          |\n",
    "|Watson            |\n",
    "|SQL               |"
   ]
  },
  {
   "cell_type": "markdown",
   "id": "110de8c7-bd67-4912-9557-28e57d4a07b2",
   "metadata": {},
   "source": [
    "<h3>Examples of evaluating arithmetic expressions<h3>"
   ]
  },
  {
   "cell_type": "code",
   "execution_count": 1,
   "id": "c2a36fd5-aa25-4deb-aa34-e0471efc8026",
   "metadata": {},
   "outputs": [
    {
     "name": "stdout",
     "output_type": "stream",
     "text": [
      "14\n"
     ]
    }
   ],
   "source": [
    "def arithmetic (a, b, c):\n",
    "    result = a + b * c\n",
    "    print(result)\n",
    "arithmetic(2,3,4)"
   ]
  },
  {
   "cell_type": "code",
   "execution_count": 3,
   "id": "d0b312fd-ef2d-449e-871a-1689b8a9d3c0",
   "metadata": {},
   "outputs": [
    {
     "name": "stdout",
     "output_type": "stream",
     "text": [
      "2.0\n"
     ]
    }
   ],
   "source": [
    "def minuts_hour(min):\n",
    "    hr = min / 60\n",
    "    print(hr)\n",
    "minuts_hour(120)"
   ]
  },
  {
   "cell_type": "markdown",
   "id": "0acc35f0-1898-4b2d-99aa-51ecbd3a0784",
   "metadata": {},
   "source": [
    "<b>Objectives:</b>\n",
    "+ Python\n",
    "+ Scala\n",
    "+ R\n",
    "+ SQL"
   ]
  },
  {
   "cell_type": "markdown",
   "id": "8f23c57b-d2b7-45d9-926b-d0e37536fc9e",
   "metadata": {},
   "source": [
    "<h2>Author: Arturo León Fernández<h2>"
   ]
  }
 ],
 "metadata": {
  "kernelspec": {
   "display_name": "Python",
   "language": "python",
   "name": "conda-env-python-py"
  },
  "language_info": {
   "codemirror_mode": {
    "name": "ipython",
    "version": 3
   },
   "file_extension": ".py",
   "mimetype": "text/x-python",
   "name": "python",
   "nbconvert_exporter": "python",
   "pygments_lexer": "ipython3",
   "version": "3.7.12"
  }
 },
 "nbformat": 4,
 "nbformat_minor": 5
}
